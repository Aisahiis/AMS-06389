{
 "cells": [
  {
   "cell_type": "markdown",
   "id": "77b6c85c",
   "metadata": {},
   "source": [
    "# Aisah - A12.2020.06389"
   ]
  },
  {
   "cell_type": "markdown",
   "id": "453a3283",
   "metadata": {},
   "source": [
    "2. Topic Modelling Metode (Topik dari tiap sentimen yang didapatkan)\n",
    "   - Jelaskan metode yang digunakan (LDA/LSA/PLSA atau yang lain). Dijelaskan juga alasan memakai metode tsb.\n",
    "   - Menjelaskan coding dan hasilnya"
   ]
  },
  {
   "cell_type": "code",
   "execution_count": 1,
   "id": "ee0256e2",
   "metadata": {},
   "outputs": [
    {
     "name": "stdout",
     "output_type": "stream",
     "text": [
      "Defaulting to user installation because normal site-packages is not writeable\n",
      "Requirement already satisfied: gensim in c:\\users\\aisyah\\appdata\\roaming\\python\\python39\\site-packages (4.3.0)\n",
      "Requirement already satisfied: scipy>=1.7.0 in c:\\programdata\\anaconda3\\lib\\site-packages (from gensim) (1.7.3)\n",
      "Requirement already satisfied: FuzzyTM>=0.4.0 in c:\\users\\aisyah\\appdata\\roaming\\python\\python39\\site-packages (from gensim) (2.0.5)\n",
      "Requirement already satisfied: smart-open>=1.8.1 in c:\\programdata\\anaconda3\\lib\\site-packages (from gensim) (5.1.0)\n",
      "Requirement already satisfied: Cython==0.29.32 in c:\\users\\aisyah\\appdata\\roaming\\python\\python39\\site-packages (from gensim) (0.29.32)\n",
      "Requirement already satisfied: numpy>=1.18.5 in c:\\users\\aisyah\\appdata\\roaming\\python\\python39\\site-packages (from gensim) (1.22.4)\n",
      "Requirement already satisfied: pyfume in c:\\users\\aisyah\\appdata\\roaming\\python\\python39\\site-packages (from FuzzyTM>=0.4.0->gensim) (0.2.25)\n",
      "Requirement already satisfied: pandas in c:\\programdata\\anaconda3\\lib\\site-packages (from FuzzyTM>=0.4.0->gensim) (1.4.2)\n",
      "Requirement already satisfied: python-dateutil>=2.8.1 in c:\\programdata\\anaconda3\\lib\\site-packages (from pandas->FuzzyTM>=0.4.0->gensim) (2.8.2)\n",
      "Requirement already satisfied: pytz>=2020.1 in c:\\programdata\\anaconda3\\lib\\site-packages (from pandas->FuzzyTM>=0.4.0->gensim) (2021.3)\n",
      "Requirement already satisfied: six>=1.5 in c:\\programdata\\anaconda3\\lib\\site-packages (from python-dateutil>=2.8.1->pandas->FuzzyTM>=0.4.0->gensim) (1.16.0)\n",
      "Requirement already satisfied: fst-pso in c:\\users\\aisyah\\appdata\\roaming\\python\\python39\\site-packages (from pyfume->FuzzyTM>=0.4.0->gensim) (1.8.1)\n",
      "Requirement already satisfied: simpful in c:\\users\\aisyah\\appdata\\roaming\\python\\python39\\site-packages (from pyfume->FuzzyTM>=0.4.0->gensim) (2.9.0)\n",
      "Requirement already satisfied: miniful in c:\\users\\aisyah\\appdata\\roaming\\python\\python39\\site-packages (from fst-pso->pyfume->FuzzyTM>=0.4.0->gensim) (0.0.6)\n",
      "Requirement already satisfied: requests in c:\\programdata\\anaconda3\\lib\\site-packages (from simpful->pyfume->FuzzyTM>=0.4.0->gensim) (2.27.1)\n",
      "Requirement already satisfied: charset-normalizer~=2.0.0 in c:\\programdata\\anaconda3\\lib\\site-packages (from requests->simpful->pyfume->FuzzyTM>=0.4.0->gensim) (2.0.4)\n",
      "Requirement already satisfied: urllib3<1.27,>=1.21.1 in c:\\programdata\\anaconda3\\lib\\site-packages (from requests->simpful->pyfume->FuzzyTM>=0.4.0->gensim) (1.26.9)\n",
      "Requirement already satisfied: certifi>=2017.4.17 in c:\\programdata\\anaconda3\\lib\\site-packages (from requests->simpful->pyfume->FuzzyTM>=0.4.0->gensim) (2021.10.8)\n",
      "Requirement already satisfied: idna<4,>=2.5 in c:\\programdata\\anaconda3\\lib\\site-packages (from requests->simpful->pyfume->FuzzyTM>=0.4.0->gensim) (3.3)\n"
     ]
    }
   ],
   "source": [
    "!pip install --upgrade gensim"
   ]
  },
  {
   "cell_type": "code",
   "execution_count": 2,
   "id": "feabaf3e",
   "metadata": {},
   "outputs": [
    {
     "name": "stdout",
     "output_type": "stream",
     "text": [
      "Defaulting to user installation because normal site-packages is not writeable\n",
      "Requirement already satisfied: pyldavis==3.2.1 in c:\\users\\aisyah\\appdata\\roaming\\python\\python39\\site-packages (3.2.1)\n",
      "Requirement already satisfied: pandas>=0.17.0 in c:\\programdata\\anaconda3\\lib\\site-packages (from pyldavis==3.2.1) (1.4.2)\n",
      "Requirement already satisfied: numexpr in c:\\programdata\\anaconda3\\lib\\site-packages (from pyldavis==3.2.1) (2.8.1)\n",
      "Requirement already satisfied: numpy>=1.9.2 in c:\\users\\aisyah\\appdata\\roaming\\python\\python39\\site-packages (from pyldavis==3.2.1) (1.22.4)\n",
      "Requirement already satisfied: wheel>=0.23.0 in c:\\programdata\\anaconda3\\lib\\site-packages (from pyldavis==3.2.1) (0.37.1)\n",
      "Requirement already satisfied: scipy>=0.18.0 in c:\\programdata\\anaconda3\\lib\\site-packages (from pyldavis==3.2.1) (1.7.3)\n",
      "Requirement already satisfied: future in c:\\programdata\\anaconda3\\lib\\site-packages (from pyldavis==3.2.1) (0.18.2)\n",
      "Requirement already satisfied: joblib>=0.8.4 in c:\\programdata\\anaconda3\\lib\\site-packages (from pyldavis==3.2.1) (1.1.0)\n",
      "Requirement already satisfied: jinja2>=2.7.2 in c:\\programdata\\anaconda3\\lib\\site-packages (from pyldavis==3.2.1) (2.11.3)\n",
      "Requirement already satisfied: funcy in c:\\users\\aisyah\\appdata\\roaming\\python\\python39\\site-packages (from pyldavis==3.2.1) (1.17)\n",
      "Requirement already satisfied: MarkupSafe>=0.23 in c:\\programdata\\anaconda3\\lib\\site-packages (from jinja2>=2.7.2->pyldavis==3.2.1) (2.0.1)\n",
      "Requirement already satisfied: python-dateutil>=2.8.1 in c:\\programdata\\anaconda3\\lib\\site-packages (from pandas>=0.17.0->pyldavis==3.2.1) (2.8.2)\n",
      "Requirement already satisfied: pytz>=2020.1 in c:\\programdata\\anaconda3\\lib\\site-packages (from pandas>=0.17.0->pyldavis==3.2.1) (2021.3)\n",
      "Requirement already satisfied: six>=1.5 in c:\\programdata\\anaconda3\\lib\\site-packages (from python-dateutil>=2.8.1->pandas>=0.17.0->pyldavis==3.2.1) (1.16.0)\n",
      "Requirement already satisfied: packaging in c:\\programdata\\anaconda3\\lib\\site-packages (from numexpr->pyldavis==3.2.1) (21.3)\n",
      "Requirement already satisfied: pyparsing!=3.0.5,>=2.0.2 in c:\\programdata\\anaconda3\\lib\\site-packages (from packaging->numexpr->pyldavis==3.2.1) (3.0.4)\n"
     ]
    }
   ],
   "source": [
    "!pip install pyldavis==3.2.1"
   ]
  },
  {
   "cell_type": "code",
   "execution_count": 3,
   "id": "65e4f4db",
   "metadata": {},
   "outputs": [
    {
     "name": "stdout",
     "output_type": "stream",
     "text": [
      "Defaulting to user installation because normal site-packages is not writeable\n",
      "Requirement already satisfied: Sastrawi in c:\\users\\aisyah\\appdata\\roaming\\python\\python39\\site-packages (1.0.1)\n"
     ]
    }
   ],
   "source": [
    "!pip install Sastrawi"
   ]
  },
  {
   "cell_type": "code",
   "execution_count": 4,
   "id": "e752cfd4",
   "metadata": {},
   "outputs": [
    {
     "name": "stdout",
     "output_type": "stream",
     "text": [
      "Defaulting to user installation because normal site-packages is not writeable\n",
      "Requirement already satisfied: swifter in c:\\users\\aisyah\\appdata\\roaming\\python\\python39\\site-packages (1.3.4)\n",
      "Requirement already satisfied: parso>0.4.0 in c:\\programdata\\anaconda3\\lib\\site-packages (from swifter) (0.8.3)\n",
      "Requirement already satisfied: psutil>=5.6.6 in c:\\programdata\\anaconda3\\lib\\site-packages (from swifter) (5.8.0)\n",
      "Requirement already satisfied: ipywidgets>=7.0.0 in c:\\programdata\\anaconda3\\lib\\site-packages (from swifter) (7.6.5)\n",
      "Requirement already satisfied: pandas>=1.0.0 in c:\\programdata\\anaconda3\\lib\\site-packages (from swifter) (1.4.2)\n",
      "Requirement already satisfied: tqdm>=4.33.0 in c:\\programdata\\anaconda3\\lib\\site-packages (from swifter) (4.64.0)\n",
      "Requirement already satisfied: dask[dataframe]>=2.10.0 in c:\\programdata\\anaconda3\\lib\\site-packages (from swifter) (2022.2.1)\n",
      "Requirement already satisfied: bleach>=3.1.1 in c:\\programdata\\anaconda3\\lib\\site-packages (from swifter) (4.1.0)\n",
      "Requirement already satisfied: cloudpickle>=0.2.2 in c:\\programdata\\anaconda3\\lib\\site-packages (from swifter) (2.0.0)\n",
      "Requirement already satisfied: six>=1.9.0 in c:\\programdata\\anaconda3\\lib\\site-packages (from bleach>=3.1.1->swifter) (1.16.0)\n",
      "Requirement already satisfied: webencodings in c:\\programdata\\anaconda3\\lib\\site-packages (from bleach>=3.1.1->swifter) (0.5.1)\n",
      "Requirement already satisfied: packaging in c:\\programdata\\anaconda3\\lib\\site-packages (from bleach>=3.1.1->swifter) (21.3)\n",
      "Requirement already satisfied: fsspec>=0.6.0 in c:\\programdata\\anaconda3\\lib\\site-packages (from dask[dataframe]>=2.10.0->swifter) (2022.2.0)\n",
      "Requirement already satisfied: toolz>=0.8.2 in c:\\programdata\\anaconda3\\lib\\site-packages (from dask[dataframe]>=2.10.0->swifter) (0.11.2)\n",
      "Requirement already satisfied: partd>=0.3.10 in c:\\programdata\\anaconda3\\lib\\site-packages (from dask[dataframe]>=2.10.0->swifter) (1.2.0)\n",
      "Requirement already satisfied: pyyaml>=5.3.1 in c:\\programdata\\anaconda3\\lib\\site-packages (from dask[dataframe]>=2.10.0->swifter) (6.0)\n",
      "Requirement already satisfied: numpy>=1.18 in c:\\users\\aisyah\\appdata\\roaming\\python\\python39\\site-packages (from dask[dataframe]>=2.10.0->swifter) (1.22.4)\n",
      "Requirement already satisfied: nbformat>=4.2.0 in c:\\programdata\\anaconda3\\lib\\site-packages (from ipywidgets>=7.0.0->swifter) (5.3.0)\n",
      "Requirement already satisfied: ipykernel>=4.5.1 in c:\\programdata\\anaconda3\\lib\\site-packages (from ipywidgets>=7.0.0->swifter) (6.9.1)\n",
      "Requirement already satisfied: ipython-genutils~=0.2.0 in c:\\programdata\\anaconda3\\lib\\site-packages (from ipywidgets>=7.0.0->swifter) (0.2.0)\n",
      "Requirement already satisfied: jupyterlab-widgets>=1.0.0 in c:\\programdata\\anaconda3\\lib\\site-packages (from ipywidgets>=7.0.0->swifter) (1.0.0)\n",
      "Requirement already satisfied: ipython>=4.0.0 in c:\\programdata\\anaconda3\\lib\\site-packages (from ipywidgets>=7.0.0->swifter) (8.2.0)\n",
      "Requirement already satisfied: traitlets>=4.3.1 in c:\\programdata\\anaconda3\\lib\\site-packages (from ipywidgets>=7.0.0->swifter) (5.1.1)\n",
      "Requirement already satisfied: widgetsnbextension~=3.5.0 in c:\\programdata\\anaconda3\\lib\\site-packages (from ipywidgets>=7.0.0->swifter) (3.5.2)\n",
      "Requirement already satisfied: tornado<7.0,>=4.2 in c:\\programdata\\anaconda3\\lib\\site-packages (from ipykernel>=4.5.1->ipywidgets>=7.0.0->swifter) (6.1)\n",
      "Requirement already satisfied: nest-asyncio in c:\\programdata\\anaconda3\\lib\\site-packages (from ipykernel>=4.5.1->ipywidgets>=7.0.0->swifter) (1.5.5)\n",
      "Requirement already satisfied: matplotlib-inline<0.2.0,>=0.1.0 in c:\\programdata\\anaconda3\\lib\\site-packages (from ipykernel>=4.5.1->ipywidgets>=7.0.0->swifter) (0.1.2)\n",
      "Requirement already satisfied: jupyter-client<8.0 in c:\\programdata\\anaconda3\\lib\\site-packages (from ipykernel>=4.5.1->ipywidgets>=7.0.0->swifter) (6.1.12)\n",
      "Requirement already satisfied: debugpy<2.0,>=1.0.0 in c:\\programdata\\anaconda3\\lib\\site-packages (from ipykernel>=4.5.1->ipywidgets>=7.0.0->swifter) (1.5.1)\n",
      "Requirement already satisfied: backcall in c:\\programdata\\anaconda3\\lib\\site-packages (from ipython>=4.0.0->ipywidgets>=7.0.0->swifter) (0.2.0)\n",
      "Requirement already satisfied: setuptools>=18.5 in c:\\programdata\\anaconda3\\lib\\site-packages (from ipython>=4.0.0->ipywidgets>=7.0.0->swifter) (61.2.0)\n",
      "Requirement already satisfied: jedi>=0.16 in c:\\programdata\\anaconda3\\lib\\site-packages (from ipython>=4.0.0->ipywidgets>=7.0.0->swifter) (0.18.1)\n",
      "Requirement already satisfied: decorator in c:\\programdata\\anaconda3\\lib\\site-packages (from ipython>=4.0.0->ipywidgets>=7.0.0->swifter) (5.1.1)\n",
      "Requirement already satisfied: pickleshare in c:\\programdata\\anaconda3\\lib\\site-packages (from ipython>=4.0.0->ipywidgets>=7.0.0->swifter) (0.7.5)\n",
      "Requirement already satisfied: colorama in c:\\programdata\\anaconda3\\lib\\site-packages (from ipython>=4.0.0->ipywidgets>=7.0.0->swifter) (0.4.4)\n",
      "Requirement already satisfied: stack-data in c:\\programdata\\anaconda3\\lib\\site-packages (from ipython>=4.0.0->ipywidgets>=7.0.0->swifter) (0.2.0)\n",
      "Requirement already satisfied: pygments>=2.4.0 in c:\\programdata\\anaconda3\\lib\\site-packages (from ipython>=4.0.0->ipywidgets>=7.0.0->swifter) (2.11.2)\n",
      "Requirement already satisfied: prompt-toolkit!=3.0.0,!=3.0.1,<3.1.0,>=2.0.0 in c:\\programdata\\anaconda3\\lib\\site-packages (from ipython>=4.0.0->ipywidgets>=7.0.0->swifter) (3.0.20)\n",
      "Requirement already satisfied: pyzmq>=13 in c:\\programdata\\anaconda3\\lib\\site-packages (from jupyter-client<8.0->ipykernel>=4.5.1->ipywidgets>=7.0.0->swifter) (22.3.0)\n",
      "Requirement already satisfied: jupyter-core>=4.6.0 in c:\\programdata\\anaconda3\\lib\\site-packages (from jupyter-client<8.0->ipykernel>=4.5.1->ipywidgets>=7.0.0->swifter) (4.9.2)\n",
      "Requirement already satisfied: python-dateutil>=2.1 in c:\\programdata\\anaconda3\\lib\\site-packages (from jupyter-client<8.0->ipykernel>=4.5.1->ipywidgets>=7.0.0->swifter) (2.8.2)\n",
      "Requirement already satisfied: pywin32>=1.0 in c:\\programdata\\anaconda3\\lib\\site-packages (from jupyter-core>=4.6.0->jupyter-client<8.0->ipykernel>=4.5.1->ipywidgets>=7.0.0->swifter) (302)\n",
      "Requirement already satisfied: fastjsonschema in c:\\programdata\\anaconda3\\lib\\site-packages (from nbformat>=4.2.0->ipywidgets>=7.0.0->swifter) (2.15.1)\n",
      "Requirement already satisfied: jsonschema>=2.6 in c:\\programdata\\anaconda3\\lib\\site-packages (from nbformat>=4.2.0->ipywidgets>=7.0.0->swifter) (4.4.0)\n",
      "Requirement already satisfied: pyrsistent!=0.17.0,!=0.17.1,!=0.17.2,>=0.14.0 in c:\\programdata\\anaconda3\\lib\\site-packages (from jsonschema>=2.6->nbformat>=4.2.0->ipywidgets>=7.0.0->swifter) (0.18.0)\n",
      "Requirement already satisfied: attrs>=17.4.0 in c:\\programdata\\anaconda3\\lib\\site-packages (from jsonschema>=2.6->nbformat>=4.2.0->ipywidgets>=7.0.0->swifter) (21.4.0)\n",
      "Requirement already satisfied: pyparsing!=3.0.5,>=2.0.2 in c:\\programdata\\anaconda3\\lib\\site-packages (from packaging->bleach>=3.1.1->swifter) (3.0.4)\n",
      "Requirement already satisfied: pytz>=2020.1 in c:\\programdata\\anaconda3\\lib\\site-packages (from pandas>=1.0.0->swifter) (2021.3)\n",
      "Requirement already satisfied: locket in c:\\programdata\\anaconda3\\lib\\site-packages (from partd>=0.3.10->dask[dataframe]>=2.10.0->swifter) (0.2.1)\n",
      "Requirement already satisfied: wcwidth in c:\\programdata\\anaconda3\\lib\\site-packages (from prompt-toolkit!=3.0.0,!=3.0.1,<3.1.0,>=2.0.0->ipython>=4.0.0->ipywidgets>=7.0.0->swifter) (0.2.5)\n",
      "Requirement already satisfied: notebook>=4.4.1 in c:\\programdata\\anaconda3\\lib\\site-packages (from widgetsnbextension~=3.5.0->ipywidgets>=7.0.0->swifter) (6.4.8)\n",
      "Requirement already satisfied: nbconvert in c:\\programdata\\anaconda3\\lib\\site-packages (from notebook>=4.4.1->widgetsnbextension~=3.5.0->ipywidgets>=7.0.0->swifter) (6.4.4)\n",
      "Requirement already satisfied: jinja2 in c:\\programdata\\anaconda3\\lib\\site-packages (from notebook>=4.4.1->widgetsnbextension~=3.5.0->ipywidgets>=7.0.0->swifter) (2.11.3)\n",
      "Requirement already satisfied: Send2Trash>=1.8.0 in c:\\programdata\\anaconda3\\lib\\site-packages (from notebook>=4.4.1->widgetsnbextension~=3.5.0->ipywidgets>=7.0.0->swifter) (1.8.0)\n",
      "Requirement already satisfied: argon2-cffi in c:\\programdata\\anaconda3\\lib\\site-packages (from notebook>=4.4.1->widgetsnbextension~=3.5.0->ipywidgets>=7.0.0->swifter) (21.3.0)\n",
      "Requirement already satisfied: terminado>=0.8.3 in c:\\programdata\\anaconda3\\lib\\site-packages (from notebook>=4.4.1->widgetsnbextension~=3.5.0->ipywidgets>=7.0.0->swifter) (0.13.1)\n",
      "Requirement already satisfied: prometheus-client in c:\\programdata\\anaconda3\\lib\\site-packages (from notebook>=4.4.1->widgetsnbextension~=3.5.0->ipywidgets>=7.0.0->swifter) (0.13.1)\n",
      "Requirement already satisfied: pywinpty>=1.1.0 in c:\\programdata\\anaconda3\\lib\\site-packages (from terminado>=0.8.3->notebook>=4.4.1->widgetsnbextension~=3.5.0->ipywidgets>=7.0.0->swifter) (2.0.2)\n",
      "Requirement already satisfied: argon2-cffi-bindings in c:\\programdata\\anaconda3\\lib\\site-packages (from argon2-cffi->notebook>=4.4.1->widgetsnbextension~=3.5.0->ipywidgets>=7.0.0->swifter) (21.2.0)\n",
      "Requirement already satisfied: cffi>=1.0.1 in c:\\programdata\\anaconda3\\lib\\site-packages (from argon2-cffi-bindings->argon2-cffi->notebook>=4.4.1->widgetsnbextension~=3.5.0->ipywidgets>=7.0.0->swifter) (1.15.0)\n",
      "Requirement already satisfied: pycparser in c:\\programdata\\anaconda3\\lib\\site-packages (from cffi>=1.0.1->argon2-cffi-bindings->argon2-cffi->notebook>=4.4.1->widgetsnbextension~=3.5.0->ipywidgets>=7.0.0->swifter) (2.21)\n",
      "Requirement already satisfied: MarkupSafe>=0.23 in c:\\programdata\\anaconda3\\lib\\site-packages (from jinja2->notebook>=4.4.1->widgetsnbextension~=3.5.0->ipywidgets>=7.0.0->swifter) (2.0.1)\n",
      "Requirement already satisfied: testpath in c:\\programdata\\anaconda3\\lib\\site-packages (from nbconvert->notebook>=4.4.1->widgetsnbextension~=3.5.0->ipywidgets>=7.0.0->swifter) (0.5.0)\n",
      "Requirement already satisfied: mistune<2,>=0.8.1 in c:\\programdata\\anaconda3\\lib\\site-packages (from nbconvert->notebook>=4.4.1->widgetsnbextension~=3.5.0->ipywidgets>=7.0.0->swifter) (0.8.4)\n",
      "Requirement already satisfied: defusedxml in c:\\programdata\\anaconda3\\lib\\site-packages (from nbconvert->notebook>=4.4.1->widgetsnbextension~=3.5.0->ipywidgets>=7.0.0->swifter) (0.7.1)\n",
      "Requirement already satisfied: beautifulsoup4 in c:\\programdata\\anaconda3\\lib\\site-packages (from nbconvert->notebook>=4.4.1->widgetsnbextension~=3.5.0->ipywidgets>=7.0.0->swifter) (4.11.1)\n",
      "Requirement already satisfied: entrypoints>=0.2.2 in c:\\programdata\\anaconda3\\lib\\site-packages (from nbconvert->notebook>=4.4.1->widgetsnbextension~=3.5.0->ipywidgets>=7.0.0->swifter) (0.4)\n",
      "Requirement already satisfied: jupyterlab-pygments in c:\\programdata\\anaconda3\\lib\\site-packages (from nbconvert->notebook>=4.4.1->widgetsnbextension~=3.5.0->ipywidgets>=7.0.0->swifter) (0.1.2)\n",
      "Requirement already satisfied: pandocfilters>=1.4.1 in c:\\programdata\\anaconda3\\lib\\site-packages (from nbconvert->notebook>=4.4.1->widgetsnbextension~=3.5.0->ipywidgets>=7.0.0->swifter) (1.5.0)\n",
      "Requirement already satisfied: nbclient<0.6.0,>=0.5.0 in c:\\programdata\\anaconda3\\lib\\site-packages (from nbconvert->notebook>=4.4.1->widgetsnbextension~=3.5.0->ipywidgets>=7.0.0->swifter) (0.5.13)\n",
      "Requirement already satisfied: soupsieve>1.2 in c:\\programdata\\anaconda3\\lib\\site-packages (from beautifulsoup4->nbconvert->notebook>=4.4.1->widgetsnbextension~=3.5.0->ipywidgets>=7.0.0->swifter) (2.3.1)\n",
      "Requirement already satisfied: pure-eval in c:\\programdata\\anaconda3\\lib\\site-packages (from stack-data->ipython>=4.0.0->ipywidgets>=7.0.0->swifter) (0.2.2)\n",
      "Requirement already satisfied: executing in c:\\programdata\\anaconda3\\lib\\site-packages (from stack-data->ipython>=4.0.0->ipywidgets>=7.0.0->swifter) (0.8.3)\n",
      "Requirement already satisfied: asttokens in c:\\programdata\\anaconda3\\lib\\site-packages (from stack-data->ipython>=4.0.0->ipywidgets>=7.0.0->swifter) (2.0.5)\n"
     ]
    }
   ],
   "source": [
    "!pip install swifter"
   ]
  },
  {
   "cell_type": "code",
   "execution_count": 5,
   "id": "624af4d2",
   "metadata": {},
   "outputs": [],
   "source": [
    "import pandas as pd\n",
    "import numpy as np\n",
    "import nltk"
   ]
  },
  {
   "cell_type": "code",
   "execution_count": 6,
   "id": "628edc0f",
   "metadata": {},
   "outputs": [],
   "source": [
    "dataSB = pd.read_csv('PB_ROBOT.csv')"
   ]
  },
  {
   "cell_type": "code",
   "execution_count": 7,
   "id": "d2cdbea3",
   "metadata": {},
   "outputs": [
    {
     "data": {
      "text/html": [
       "<div>\n",
       "<style scoped>\n",
       "    .dataframe tbody tr th:only-of-type {\n",
       "        vertical-align: middle;\n",
       "    }\n",
       "\n",
       "    .dataframe tbody tr th {\n",
       "        vertical-align: top;\n",
       "    }\n",
       "\n",
       "    .dataframe thead th {\n",
       "        text-align: right;\n",
       "    }\n",
       "</style>\n",
       "<table border=\"1\" class=\"dataframe\">\n",
       "  <thead>\n",
       "    <tr style=\"text-align: right;\">\n",
       "      <th></th>\n",
       "      <th>username</th>\n",
       "      <th>bintang</th>\n",
       "      <th>review</th>\n",
       "    </tr>\n",
       "  </thead>\n",
       "  <tbody>\n",
       "    <tr>\n",
       "      <th>0</th>\n",
       "      <td>salonayu10</td>\n",
       "      <td>5</td>\n",
       "      <td>Alhamdulillah paketnya sudah sampai dgn aman\\n...</td>\n",
       "    </tr>\n",
       "    <tr>\n",
       "      <th>1</th>\n",
       "      <td>rubbyaqilla13</td>\n",
       "      <td>5</td>\n",
       "      <td>Alhamdulillah, pesanan saya sudah sampai nih k...</td>\n",
       "    </tr>\n",
       "    <tr>\n",
       "      <th>2</th>\n",
       "      <td>n*****1</td>\n",
       "      <td>2</td>\n",
       "      <td>pertama kali aku kasih bintang di bwh 4, tpi e...</td>\n",
       "    </tr>\n",
       "    <tr>\n",
       "      <th>3</th>\n",
       "      <td>erikatjhang</td>\n",
       "      <td>5</td>\n",
       "      <td>Pengiriman sangat cepat, padahal belinya pas l...</td>\n",
       "    </tr>\n",
       "    <tr>\n",
       "      <th>4</th>\n",
       "      <td>nandagiantari2002</td>\n",
       "      <td>5</td>\n",
       "      <td>Jika ingin menghubungi layanan PLN 123, kamu d...</td>\n",
       "    </tr>\n",
       "  </tbody>\n",
       "</table>\n",
       "</div>"
      ],
      "text/plain": [
       "            username  bintang  \\\n",
       "0         salonayu10        5   \n",
       "1      rubbyaqilla13        5   \n",
       "2            n*****1        2   \n",
       "3        erikatjhang        5   \n",
       "4  nandagiantari2002        5   \n",
       "\n",
       "                                              review  \n",
       "0  Alhamdulillah paketnya sudah sampai dgn aman\\n...  \n",
       "1  Alhamdulillah, pesanan saya sudah sampai nih k...  \n",
       "2  pertama kali aku kasih bintang di bwh 4, tpi e...  \n",
       "3  Pengiriman sangat cepat, padahal belinya pas l...  \n",
       "4  Jika ingin menghubungi layanan PLN 123, kamu d...  "
      ]
     },
     "execution_count": 7,
     "metadata": {},
     "output_type": "execute_result"
    }
   ],
   "source": [
    "dataSB.head()"
   ]
  },
  {
   "cell_type": "code",
   "execution_count": 8,
   "id": "051d89a0",
   "metadata": {},
   "outputs": [
    {
     "data": {
      "text/html": [
       "<div>\n",
       "<style scoped>\n",
       "    .dataframe tbody tr th:only-of-type {\n",
       "        vertical-align: middle;\n",
       "    }\n",
       "\n",
       "    .dataframe tbody tr th {\n",
       "        vertical-align: top;\n",
       "    }\n",
       "\n",
       "    .dataframe thead th {\n",
       "        text-align: right;\n",
       "    }\n",
       "</style>\n",
       "<table border=\"1\" class=\"dataframe\">\n",
       "  <thead>\n",
       "    <tr style=\"text-align: right;\">\n",
       "      <th></th>\n",
       "      <th>username</th>\n",
       "      <th>review</th>\n",
       "    </tr>\n",
       "  </thead>\n",
       "  <tbody>\n",
       "    <tr>\n",
       "      <th>0</th>\n",
       "      <td>salonayu10</td>\n",
       "      <td>Alhamdulillah paketnya sudah sampai dgn aman\\n...</td>\n",
       "    </tr>\n",
       "    <tr>\n",
       "      <th>1</th>\n",
       "      <td>rubbyaqilla13</td>\n",
       "      <td>Alhamdulillah, pesanan saya sudah sampai nih k...</td>\n",
       "    </tr>\n",
       "    <tr>\n",
       "      <th>2</th>\n",
       "      <td>n*****1</td>\n",
       "      <td>pertama kali aku kasih bintang di bwh 4, tpi e...</td>\n",
       "    </tr>\n",
       "    <tr>\n",
       "      <th>3</th>\n",
       "      <td>erikatjhang</td>\n",
       "      <td>Pengiriman sangat cepat, padahal belinya pas l...</td>\n",
       "    </tr>\n",
       "    <tr>\n",
       "      <th>4</th>\n",
       "      <td>nandagiantari2002</td>\n",
       "      <td>Jika ingin menghubungi layanan PLN 123, kamu d...</td>\n",
       "    </tr>\n",
       "  </tbody>\n",
       "</table>\n",
       "</div>"
      ],
      "text/plain": [
       "            username                                             review\n",
       "0         salonayu10  Alhamdulillah paketnya sudah sampai dgn aman\\n...\n",
       "1      rubbyaqilla13  Alhamdulillah, pesanan saya sudah sampai nih k...\n",
       "2            n*****1  pertama kali aku kasih bintang di bwh 4, tpi e...\n",
       "3        erikatjhang  Pengiriman sangat cepat, padahal belinya pas l...\n",
       "4  nandagiantari2002  Jika ingin menghubungi layanan PLN 123, kamu d..."
      ]
     },
     "execution_count": 8,
     "metadata": {},
     "output_type": "execute_result"
    }
   ],
   "source": [
    "dataSB = dataSB.drop(columns=['bintang'])\n",
    "dataSB.head()"
   ]
  },
  {
   "cell_type": "code",
   "execution_count": 9,
   "id": "297e4437",
   "metadata": {},
   "outputs": [
    {
     "name": "stdout",
     "output_type": "stream",
     "text": [
      "Case Folding Result : \n",
      "\n",
      "0    alhamdulillah paketnya sudah sampai dgn aman\\n...\n",
      "1    alhamdulillah, pesanan saya sudah sampai nih k...\n",
      "2    pertama kali aku kasih bintang di bwh 4, tpi e...\n",
      "3    pengiriman sangat cepat, padahal belinya pas l...\n",
      "4    jika ingin menghubungi layanan pln 123, kamu d...\n",
      "Name: review, dtype: object\n"
     ]
    }
   ],
   "source": [
    "# ------ Case Folding ------\n",
    "# gunakan fungsi Series.str.lower() pada Pandas\n",
    "\n",
    "dataSB['review'] = dataSB['review'].str.lower()\n",
    "\n",
    "print('Case Folding Result : \\n')\n",
    "print(dataSB['review'].head(5))"
   ]
  },
  {
   "cell_type": "code",
   "execution_count": 10,
   "id": "04dadb7c",
   "metadata": {},
   "outputs": [],
   "source": [
    "import string\n",
    "import re #regex library\n",
    "\n",
    "# import word_tokenize & FreqDist from NLTK\n",
    "from nltk.tokenize import word_tokenize\n",
    "from nltk.probability import FreqDist"
   ]
  },
  {
   "cell_type": "code",
   "execution_count": 11,
   "id": "a15648e4",
   "metadata": {},
   "outputs": [],
   "source": [
    "dataSB['review'] = dataSB['review'].astype(str)"
   ]
  },
  {
   "cell_type": "code",
   "execution_count": 12,
   "id": "0d47131a",
   "metadata": {},
   "outputs": [
    {
     "name": "stderr",
     "output_type": "stream",
     "text": [
      "[nltk_data] Downloading package punkt to\n",
      "[nltk_data]     C:\\Users\\Aisyah\\AppData\\Roaming\\nltk_data...\n",
      "[nltk_data]   Package punkt is already up-to-date!\n"
     ]
    },
    {
     "name": "stdout",
     "output_type": "stream",
     "text": [
      "Tokenizing Result : \n",
      "\n",
      "0    [alhamdulillah, paketnya, sudah, sampai, dgn, ...\n",
      "1    [alhamdulillah, pesanan, saya, sudah, sampai, ...\n",
      "2    [pertama, kali, aku, kasih, bintang, di, bwh, ...\n",
      "3    [pengiriman, sangat, cepat, padahal, belinya, ...\n",
      "4    [jika, ingin, menghubungi, layanan, pln, kamu,...\n",
      "Name: textdata_tokens, dtype: object\n"
     ]
    }
   ],
   "source": [
    "# ------ Tokenizing ---------\n",
    "\n",
    "nltk.download('punkt')\n",
    "\n",
    "def remove_tweet_special(text):\n",
    "    # remove tab, new line, ans back slice\n",
    "    text = str(text)\n",
    "    text = text.replace('\\\\t',\" \").replace('\\\\n',\" \").replace('\\\\u',\" \").replace('\\\\',\"\")\n",
    "    #remove non ASCII (emoticon, chinese word, .etc)\n",
    "    text = text.encode('ascii', 'replace').decode('ascii')\n",
    "    #remove mention, link, hashtag\n",
    "    text = ' '.join(re.sub(\"([@#][A-Za-z0-9]+)|(\\w+://\\S+)\",\" \", text).split())\n",
    "    # remove incomplete URL\n",
    "    return text.replace(\"http://\", \" \").replace(\"https://\", \" \")\n",
    "                            \n",
    "dataSB['review'] = dataSB['review'].apply(remove_tweet_special)\n",
    "\n",
    "#remove number\n",
    "def remove_number(text):\n",
    "    return re.sub(r\"\\d+\", \"\", text)\n",
    "\n",
    "dataSB['review'] = dataSB['review'].apply(remove_number)\n",
    "                            \n",
    "#remove punctuation\n",
    "def remove_punctuation(text):\n",
    "    return text.translate(str.maketrans(\"\",\"\",string.punctuation))\n",
    "dataSB['review'] = dataSB['review'].apply(remove_punctuation)\n",
    "                            \n",
    "# remove whitespace leading & trailing\n",
    "def remove_whitespace_LT(text):\n",
    "    return text.strip()\n",
    "                            \n",
    "dataSB['review'] = dataSB['review'].apply(remove_whitespace_LT)\n",
    "    \n",
    "# remove multiple whitespace into single whitespace\n",
    "def remove_whitespace_multiple(text):\n",
    "    return re.sub('\\s+',' ',text)\n",
    "                            \n",
    "dataSB['review'] = dataSB['review'].apply(remove_whitespace_multiple)\n",
    "                            \n",
    "# remove single char\n",
    "def remove_singl_char(text):\n",
    "    return re.sub(r\"\\b[a-zA-Z]\\b\", \"\", text)\n",
    "                            \n",
    "dataSB['review'] = dataSB['review'].apply(remove_singl_char)\n",
    "                            \n",
    "# NLTK word tokenize\n",
    "def word_tokenize_wrapper(text):\n",
    "    return word_tokenize(text)\n",
    "\n",
    "dataSB['textdata_tokens'] = dataSB['review'].apply(word_tokenize_wrapper)\n",
    "                            \n",
    "print('Tokenizing Result : \\n')\n",
    "print(dataSB['textdata_tokens'].head())"
   ]
  },
  {
   "cell_type": "code",
   "execution_count": 13,
   "id": "26d0fa43",
   "metadata": {},
   "outputs": [
    {
     "name": "stdout",
     "output_type": "stream",
     "text": [
      "Frequency Tokens : \n",
      "\n",
      "0    [(dan, 3), (aman, 2), (alhamdulillah, 1), (pak...\n",
      "1    [(saya, 2), (sudah, 2), (sampai, 2), (dan, 2),...\n",
      "2    [(yg, 3), (aku, 2), (di, 2), (dan, 2), (lampu,...\n",
      "3    [(dan, 3), (dengan, 3), (aman, 2), (pengiriman...\n",
      "4    [(telepon, 3), (layanan, 2), (pln, 2), (kamu, ...\n",
      "Name: textdata_tokens_fdist, dtype: object\n"
     ]
    }
   ],
   "source": [
    "# NLTK calc frequency distribution\n",
    "def freqDist_wrapper(text):\n",
    "    return FreqDist(text)\n",
    "\n",
    "dataSB['textdata_tokens_fdist'] = dataSB['textdata_tokens'].apply(freqDist_wrapper)\n",
    "\n",
    "print('Frequency Tokens : \\n')\n",
    "print(dataSB['textdata_tokens_fdist'].head().apply(lambda x : x.most_common()))"
   ]
  },
  {
   "cell_type": "code",
   "execution_count": 14,
   "id": "eb995cf5",
   "metadata": {},
   "outputs": [
    {
     "name": "stderr",
     "output_type": "stream",
     "text": [
      "[nltk_data] Downloading package stopwords to\n",
      "[nltk_data]     C:\\Users\\Aisyah\\AppData\\Roaming\\nltk_data...\n",
      "[nltk_data]   Package stopwords is already up-to-date!\n"
     ]
    },
    {
     "data": {
      "text/plain": [
       "True"
      ]
     },
     "execution_count": 14,
     "metadata": {},
     "output_type": "execute_result"
    }
   ],
   "source": [
    "nltk.download('stopwords')"
   ]
  },
  {
   "cell_type": "code",
   "execution_count": 15,
   "id": "e6cffdeb",
   "metadata": {},
   "outputs": [
    {
     "name": "stdout",
     "output_type": "stream",
     "text": [
      "0    [alhamdulillah, paketnya, aman, prodak, asli, ...\n",
      "1    [alhamdulillah, pesanan, ka, sesuai, pesananpe...\n",
      "2    [kali, kasih, bintang, bwh, tpi, emang, bener,...\n",
      "3    [pengiriman, cepat, belinya, pas, event, packa...\n",
      "4    [menghubungi, layanan, pln, saluran, telepon, ...\n",
      "Name: textdata_tokens_WSW, dtype: object\n"
     ]
    }
   ],
   "source": [
    "from nltk.corpus import stopwords\n",
    "\n",
    "\n",
    "# ------------- get stopword from NLTK stopword --------------------\n",
    "# get stopword indonesia\n",
    "list_stopwords = stopwords.words('indonesian')\n",
    "\n",
    "\n",
    "# ------------- manualy add stopword -------------------------------\n",
    "# append additional stopword\n",
    "list_stopwords.extend([\"yg\",\"dg\",\"rt\",\"dgn\",\"ny\",\"d\",\"klo\",\n",
    "                      'kalo','amp','biar','bikin','bilang'\n",
    "                      'gak','ga','krn','nya','nih','sih'\n",
    "                      'si','tau','tdk','tuh','utk','ya'\n",
    "                      'jd','jgn','sdh','aja','n','t'\n",
    "                      'nyg','hehe','pen','u','nan','loh','rt',\n",
    "                      '&amp','yah','bisnis','pandemi','indonesia'])\n",
    "\n",
    "# convert list to dictionary\n",
    "list_stopwords = set(list_stopwords)\n",
    "\n",
    "# remove stopwords pada list token\n",
    "def stopwords_removal(words):\n",
    "    return [word for word in words if word not in list_stopwords]\n",
    "\n",
    "dataSB['textdata_tokens_WSW'] = dataSB['textdata_tokens'].apply(stopwords_removal)\n",
    "\n",
    "print(dataSB['textdata_tokens_WSW'].head())"
   ]
  },
  {
   "cell_type": "code",
   "execution_count": 19,
   "id": "5f41df66",
   "metadata": {},
   "outputs": [
    {
     "name": "stderr",
     "output_type": "stream",
     "text": [
      "\n",
      "Usage:   \n",
      "  pip install [options] <requirement specifier> [package-index-options] ...\n",
      "  pip install [options] -r <requirements file> [package-index-options] ...\n",
      "  pip install [options] [-e] <vcs project url> ...\n",
      "  pip install [options] [-e] <local project path> ...\n",
      "  pip install [options] <archive url/path> ...\n",
      "\n",
      "no such option: --id\n"
     ]
    }
   ],
   "source": [
    "# import file xlsx untuk proses normalisasi\n",
    "!pip install gdown --id 1gthYLVawqvPPWmH62Fys4Riy84Jo3IV3"
   ]
  },
  {
   "cell_type": "code",
   "execution_count": 20,
   "id": "4c240fc6",
   "metadata": {},
   "outputs": [
    {
     "data": {
      "text/plain": [
       "0    [alhamdulillah, paketnya, aman, prodak, asli, ...\n",
       "1    [alhamdulillah, pesanan, ka, sesuai, pesananpe...\n",
       "2    [kali, kasih, bintang, bwh, tpi, emang, bener,...\n",
       "3    [pengiriman, cepat, belinya, pas, event, packa...\n",
       "4    [menghubungi, layanan, pln, saluran, telepon, ...\n",
       "5    [alhamdulillah, berfungsi, baikk, garansinya, ...\n",
       "6    [produknya, bagus, beli, langsung, ofc, storen...\n",
       "7    [maaf, diriview, packing, aman, produknya, bag...\n",
       "8    [maaf, videonya, powerbanknya, bagus, cepat, t...\n",
       "9    [sukaa, warnanya, semoga, bertahan, yaa, semog...\n",
       "Name: textdata_normalized, dtype: object"
      ]
     },
     "execution_count": 20,
     "metadata": {},
     "output_type": "execute_result"
    }
   ],
   "source": [
    "normalizad_word = pd.read_excel('dataU.xlsx') #lokasi file\n",
    "\n",
    "normalizad_word_dict = {}\n",
    "\n",
    "for index, row in normalizad_word.iterrows():\n",
    "    if row[0] not in normalizad_word_dict:\n",
    "        normalizad_word_dict[row[0]] = row[1]\n",
    "\n",
    "def normalizad_term(document):\n",
    "    return [normalizad_word_dict[term] if term in normalizad_word_dict else term for term in document]\n",
    "\n",
    "dataSB['textdata_normalized'] = dataSB['textdata_tokens_WSW'].apply(normalizad_term)\n",
    "\n",
    "dataSB['textdata_normalized'].head(10)"
   ]
  },
  {
   "cell_type": "code",
   "execution_count": 21,
   "id": "f917b0ab",
   "metadata": {},
   "outputs": [
    {
     "name": "stdout",
     "output_type": "stream",
     "text": [
      "4896\n"
     ]
    }
   ],
   "source": [
    "# import Sastrawi package\n",
    "from Sastrawi.Stemmer.StemmerFactory import StemmerFactory\n",
    "import swifter\n",
    "\n",
    "# create stemmer\n",
    "factory = StemmerFactory()\n",
    "stemmer = factory.create_stemmer()\n",
    "\n",
    "# stemmed\n",
    "def stemmed_wrapper(term):\n",
    "    return stemmer.stem(term)\n",
    "\n",
    "term_dict = {}\n",
    "\n",
    "for document in dataSB['textdata_normalized']:\n",
    "    for term in document:\n",
    "        if term not in term_dict:\n",
    "            term_dict[term] = ' '\n",
    "            \n",
    "print(len(term_dict))"
   ]
  },
  {
   "cell_type": "code",
   "execution_count": 22,
   "id": "edd31c47",
   "metadata": {},
   "outputs": [],
   "source": [
    "for term in term_dict:\n",
    "    term_dict[term] = stemmed_wrapper(term)\n",
    "    \n",
    "    # untuk melihat hasilnya silahkan jalankan baris di bawah ini\n",
    "    # print(term,\":\" ,term_dict[term])"
   ]
  },
  {
   "cell_type": "code",
   "execution_count": 23,
   "id": "923bfe8a",
   "metadata": {},
   "outputs": [
    {
     "data": {
      "application/vnd.jupyter.widget-view+json": {
       "model_id": "3cddb33322da41cc8cec210611d3dc12",
       "version_major": 2,
       "version_minor": 0
      },
      "text/plain": [
       "Pandas Apply:   0%|          | 0/3003 [00:00<?, ?it/s]"
      ]
     },
     "metadata": {},
     "output_type": "display_data"
    },
    {
     "name": "stdout",
     "output_type": "stream",
     "text": [
      "0       [alhamdulillah, paket, aman, prodak, asli, ori...\n",
      "1       [alhamdulillah, pesan, ka, sesuai, pesananpeng...\n",
      "2       [kali, kasih, bintang, bwh, tpi, emang, bener,...\n",
      "3       [kirim, cepat, beli, pas, event, packagingnya,...\n",
      "4       [hubung, layan, pln, salur, telepon, tau, hand...\n",
      "                              ...                        \n",
      "2998                           [kirim, cepat, moga, awet]\n",
      "2999      [produk, oke, banget, slim, warna, hijau, mate]\n",
      "3000                                                   []\n",
      "3001    [powerbank, bagus, tidak, tebel, banget, tidak...\n",
      "3002    [paham, erti, bioteknologi, istilah, muncul, a...\n",
      "Name: textdata_tokens_stemmed, Length: 3003, dtype: object\n"
     ]
    }
   ],
   "source": [
    "# apply stemmed term to dataframe\n",
    "def get_stemmed_term(document):\n",
    "    return [term_dict[term] for term in document]\n",
    "\n",
    "dataSB['textdata_tokens_stemmed'] = dataSB['textdata_normalized'].swifter.apply(get_stemmed_term)\n",
    "\n",
    "print(dataSB['textdata_tokens_stemmed'])"
   ]
  },
  {
   "cell_type": "code",
   "execution_count": 24,
   "id": "f893724c",
   "metadata": {},
   "outputs": [
    {
     "name": "stdout",
     "output_type": "stream",
     "text": [
      "0    [alhamdulillah, paket, aman, prodak, asli, ori...\n",
      "1    [alhamdulillah, pesan, ka, sesuai, pesananpeng...\n",
      "2    [kali, kasih, bintang, bwh, tpi, emang, bener,...\n",
      "3    [kirim, cepat, beli, pas, event, packagingnya,...\n",
      "4    [hubung, layan, pln, salur, telepon, tau, hand...\n",
      "Name: textdata_tokens_stemmed2, dtype: object\n"
     ]
    }
   ],
   "source": [
    "#stopwords #2\n",
    "\n",
    "from nltk.corpus  import stopwords\n",
    "\n",
    "#.......................get stopworods from nLTK stopwords......................\n",
    "#get stopwords indonesia\n",
    "list_stopwords = stopwords.words('indonesian')\n",
    "\n",
    "#.......................manualy add stopword....................................\n",
    "#append additional stopwords \n",
    "list_stopwords.extend([\"sampai\",\"dengan\",\"rapih\",\"terimakasih\",\"seller\"])\n",
    "\n",
    "#convert list to dictionary \n",
    "list_stopwords = set (list_stopwords)\n",
    "\n",
    "#remove stopword pada list token\n",
    "def stopwords_removal(words):\n",
    "    return [word for word in words if word not in list_stopwords]\n",
    "\n",
    "dataSB['textdata_tokens_stemmed2'] = dataSB ['textdata_tokens_stemmed'].apply (stopwords_removal)\n",
    "\n",
    "print(dataSB['textdata_tokens_stemmed2'].head())"
   ]
  },
  {
   "cell_type": "code",
   "execution_count": 25,
   "id": "d9363d6c",
   "metadata": {},
   "outputs": [
    {
     "data": {
      "text/plain": [
       "['paham', 'pengertian', 'bioteknologi', 'istilah', 'muncul']"
      ]
     },
     "execution_count": 25,
     "metadata": {},
     "output_type": "execute_result"
    }
   ],
   "source": [
    "for i in range(len(dataSB)):\n",
    "        a=dataSB.iloc[i][6]\n",
    "        document.append(a)\n",
    "        \n",
    "document[0:5]"
   ]
  },
  {
   "cell_type": "code",
   "execution_count": 26,
   "id": "bded0314",
   "metadata": {},
   "outputs": [
    {
     "data": {
      "text/plain": [
       "0       [alhamdulillah, paket, aman, prodak, asli, ori...\n",
       "1       [alhamdulillah, pesan, ka, sesuai, pesananpeng...\n",
       "2       [kali, kasih, bintang, bwh, tpi, emang, bener,...\n",
       "3       [kirim, cepat, beli, pas, event, packagingnya,...\n",
       "4       [hubung, layan, pln, salur, telepon, tau, hand...\n",
       "                              ...                        \n",
       "2998                           [kirim, cepat, moga, awet]\n",
       "2999      [produk, oke, banget, slim, warna, hijau, mate]\n",
       "3000                                                   []\n",
       "3001    [powerbank, bagus, tebel, banget, ngehabisin, ...\n",
       "3002    [paham, erti, bioteknologi, istilah, muncul, a...\n",
       "Name: textdata_tokens_stemmed2, Length: 3003, dtype: object"
      ]
     },
     "execution_count": 26,
     "metadata": {},
     "output_type": "execute_result"
    }
   ],
   "source": [
    "doc_clean = dataSB['textdata_tokens_stemmed2']\n",
    "doc_clean"
   ]
  },
  {
   "cell_type": "code",
   "execution_count": 43,
   "id": "582396cd",
   "metadata": {},
   "outputs": [
    {
     "name": "stdout",
     "output_type": "stream",
     "text": [
      "Defaulting to user installation because normal site-packages is not writeable\n",
      "Requirement already satisfied: numpy==1.24.1 in c:\\users\\aisyah\\appdata\\roaming\\python\\python39\\site-packages (1.24.1)\n"
     ]
    }
   ],
   "source": [
    "!pip install numpy==1.24.1"
   ]
  },
  {
   "cell_type": "markdown",
   "id": "72739c76",
   "metadata": {},
   "source": [
    "# LDA"
   ]
  },
  {
   "cell_type": "code",
   "execution_count": 29,
   "id": "67fe84da",
   "metadata": {},
   "outputs": [
    {
     "name": "stdout",
     "output_type": "stream",
     "text": [
      "Dictionary<4372 unique tokens: ['alhamdulillah', 'aman', 'asli', 'awer', 'banget']...>\n"
     ]
    }
   ],
   "source": [
    "import gensim\n",
    "from gensim import corpora\n",
    "\n",
    "dictionary = corpora.Dictionary(doc_clean)\n",
    "print(dictionary)\n",
    "\n",
    "doc_term_matrix = [dictionary.doc2bow(doc) for doc in doc_clean]"
   ]
  },
  {
   "cell_type": "code",
   "execution_count": 30,
   "id": "ad794dc7",
   "metadata": {},
   "outputs": [],
   "source": [
    "# Creating the object for LDA model using gensim library\n",
    "Lda = gensim.models.ldamodel.LdaModel\n",
    "\n",
    "total_topics = 3 # jumlah topik yang akan di extract\n",
    "number_words = 10 # jumlah kata per topik"
   ]
  },
  {
   "cell_type": "code",
   "execution_count": 31,
   "id": "1426ecdf",
   "metadata": {},
   "outputs": [
    {
     "data": {
      "text/plain": [
       "[(0,\n",
       "  '0.023*\"warna\" + 0.019*\"bagus\" + 0.014*\"moga\" + 0.013*\"awet\" + 0.013*\"banget\" + 0.011*\"beli\" + 0.010*\"udah\" + 0.009*\"power\" + 0.009*\"bank\" + 0.009*\"coba\"'),\n",
       " (1,\n",
       "  '0.070*\"barang\" + 0.054*\"moga\" + 0.047*\"awet\" + 0.036*\"kirim\" + 0.030*\"bagus\" + 0.027*\"aman\" + 0.025*\"sesuai\" + 0.024*\"cepat\" + 0.022*\"terima\" + 0.017*\"fungsi\"'),\n",
       " (2,\n",
       "  '0.073*\"produk\" + 0.041*\"kirim\" + 0.039*\"bagus\" + 0.035*\"cepat\" + 0.035*\"harga\" + 0.033*\"kualitas\" + 0.028*\"original\" + 0.022*\"barang\" + 0.018*\"banget\" + 0.013*\"sesuai\"')]"
      ]
     },
     "execution_count": 31,
     "metadata": {},
     "output_type": "execute_result"
    }
   ],
   "source": [
    "# Running and Training LDA model on the document term matrix.\n",
    "lda_model = Lda(doc_term_matrix, num_topics=total_topics, id2word = dictionary, passes=50)\n",
    "\n",
    "lda_model.show_topics(num_topics=total_topics, num_words=number_words)"
   ]
  },
  {
   "cell_type": "code",
   "execution_count": 32,
   "id": "7a20e870",
   "metadata": {},
   "outputs": [
    {
     "name": "stdout",
     "output_type": "stream",
     "text": [
      "        word  topic_id  importance  word_count\n",
      "0      warna         0    0.022805         357\n",
      "1      bagus         0    0.018579         927\n",
      "2       moga         0    0.013750         856\n",
      "3       awet         0    0.013263         771\n",
      "4     banget         0    0.013019         415\n",
      "5       beli         0    0.010545         241\n",
      "6       udah         0    0.009640         192\n",
      "7      power         0    0.009486         102\n",
      "8       bank         0    0.009485         102\n",
      "9       coba         0    0.009021         260\n",
      "10    barang         1    0.070083        1157\n",
      "11      moga         1    0.053994         856\n",
      "12      awet         1    0.047118         771\n",
      "13     kirim         1    0.035801         934\n",
      "14     bagus         1    0.029662         927\n",
      "15      aman         1    0.026625         395\n",
      "16    sesuai         1    0.024655         465\n",
      "17     cepat         1    0.023611         618\n",
      "18    terima         1    0.022035         298\n",
      "19    fungsi         1    0.017246         302\n",
      "20    produk         2    0.072900         664\n",
      "21     kirim         2    0.040951         934\n",
      "22     bagus         2    0.039249         927\n",
      "23     cepat         2    0.035046         618\n",
      "24     harga         2    0.034798         335\n",
      "25  kualitas         2    0.033495         299\n",
      "26  original         2    0.027977         261\n",
      "27    barang         2    0.021786        1157\n",
      "28    banget         2    0.018299         415\n",
      "29    sesuai         2    0.013463         465\n"
     ]
    }
   ],
   "source": [
    "# Word Count of Topic Keywords\n",
    "\n",
    "from collections import Counter\n",
    "topics = lda_model.show_topics(formatted=False)\n",
    "data_flat = [w for w_list in doc_clean for w in w_list]\n",
    "counter = Counter(data_flat)\n",
    "\n",
    "out =[]\n",
    "for i, topic in topics:\n",
    "    for word, weight in topic:\n",
    "        out.append([word, i , weight, counter[word]])\n",
    "        \n",
    "df_imp_wcount = pd.DataFrame(out, columns=['word', 'topic_id', 'importance', 'word_count'])\n",
    "print(df_imp_wcount)"
   ]
  },
  {
   "cell_type": "code",
   "execution_count": 33,
   "id": "f224b9a4",
   "metadata": {},
   "outputs": [],
   "source": [
    "# Dominant topic and its percentage contribution in each topic\n",
    "def format_topics_sentences(ldamodel=None, corpus=doc_term_matrix, text=document):\n",
    "    # Init output\n",
    "    sent_topics_df = pd.DataFrame()\n",
    "\n",
    "    # Get main topic in each document\n",
    "    for i, row_list in enumerate(ldamodel[corpus]):\n",
    "        row = row_list[0] if ldmodel.per_word_topics else row_list \n",
    "        #print(row)\n",
    "        row = sorted(row,key=lambda x:(x[1]), reverse=True)\n",
    "        # Get the dominant topic, perc contribution and keywords for each document \n",
    "        for j, (topic_num, prop_topic) in enumerate (row):\n",
    "            if j ==0: # => dominant topic \n",
    "                wp = ldmodel.show_topic (topic_num)\n",
    "                topic_keywords = \", \".join ([word for word, prop in wp])\n",
    "                sent_topics_df = sent_topics_df. append(pd.series([int(topic_num), round (prop_topic,4), topic_keywords]), ignore_index=true)\n",
    "            else:\n",
    "                break\n",
    "    sent_topics_df.colums=['Dominant_topics','Perc_Contribution', 'Topic_keywords']\n",
    "\n",
    "    # add original text to the end of the output \n",
    "    contents=pd.series (texts)\n",
    "    sent_topic_df= pd.concat ([sent_topic_df, contents], axis=1)\n",
    "    return(sent_topics_df)\n"
   ]
  },
  {
   "cell_type": "code",
   "execution_count": 34,
   "id": "187f5de3",
   "metadata": {},
   "outputs": [
    {
     "ename": "TypeError",
     "evalue": "format_topics_sentences() got an unexpected keyword argument 'texts'",
     "output_type": "error",
     "traceback": [
      "\u001b[1;31m---------------------------------------------------------------------------\u001b[0m",
      "\u001b[1;31mTypeError\u001b[0m                                 Traceback (most recent call last)",
      "Input \u001b[1;32mIn [34]\u001b[0m, in \u001b[0;36m<cell line: 1>\u001b[1;34m()\u001b[0m\n\u001b[1;32m----> 1\u001b[0m df_topic_sents_keywords \u001b[38;5;241m=\u001b[39m \u001b[43mformat_topics_sentences\u001b[49m\u001b[43m(\u001b[49m\u001b[43mldamodel\u001b[49m\u001b[38;5;241;43m=\u001b[39;49m\u001b[43mlda_model\u001b[49m\u001b[43m,\u001b[49m\u001b[43m \u001b[49m\u001b[43mcorpus\u001b[49m\u001b[38;5;241;43m=\u001b[39;49m\u001b[43mdoc_term_matrix\u001b[49m\u001b[43m,\u001b[49m\u001b[43m \u001b[49m\u001b[43mtexts\u001b[49m\u001b[38;5;241;43m=\u001b[39;49m\u001b[43mdoc_clean\u001b[49m\u001b[43m)\u001b[49m\n\u001b[0;32m      3\u001b[0m \u001b[38;5;66;03m# Format\u001b[39;00m\n\u001b[0;32m      4\u001b[0m df_dominant_topic \u001b[38;5;241m=\u001b[39m df_topics_sents_keywords\u001b[38;5;241m.\u001b[39mreset_index()\n",
      "\u001b[1;31mTypeError\u001b[0m: format_topics_sentences() got an unexpected keyword argument 'texts'"
     ]
    }
   ],
   "source": [
    "df_topic_sents_keywords = format_topics_sentences(ldamodel=lda_model, corpus=doc_term_matrix, texts=doc_clean)\n",
    "\n",
    "# Format\n",
    "df_dominant_topic = df_topics_sents_keywords.reset_index()\n",
    "df_dominant_topic.columns = ['Document_No', 'Dominant_Topic', 'Topic_Perc_Contrib', 'Keywords', 'Text']\n",
    "print(df_dominant_topic.head(10))"
   ]
  },
  {
   "cell_type": "code",
   "execution_count": 35,
   "id": "23cf12c2",
   "metadata": {},
   "outputs": [
    {
     "ename": "NameError",
     "evalue": "name 'df_dominant_topic' is not defined",
     "output_type": "error",
     "traceback": [
      "\u001b[1;31m---------------------------------------------------------------------------\u001b[0m",
      "\u001b[1;31mNameError\u001b[0m                                 Traceback (most recent call last)",
      "Input \u001b[1;32mIn [35]\u001b[0m, in \u001b[0;36m<cell line: 2>\u001b[1;34m()\u001b[0m\n\u001b[0;32m      1\u001b[0m \u001b[38;5;66;03m# simpan \u001b[39;00m\n\u001b[1;32m----> 2\u001b[0m \u001b[43mdf_dominant_topic\u001b[49m\u001b[38;5;241m.\u001b[39mto_csv(\u001b[38;5;124m'\u001b[39m\u001b[38;5;124mdf_dominant_topic.csv\u001b[39m\u001b[38;5;124m'\u001b[39m)\n",
      "\u001b[1;31mNameError\u001b[0m: name 'df_dominant_topic' is not defined"
     ]
    }
   ],
   "source": [
    "# simpan \n",
    "df_dominant_topic.to_csv('df_dominant_topic.csv')"
   ]
  },
  {
   "cell_type": "code",
   "execution_count": 36,
   "id": "de38a0e9",
   "metadata": {},
   "outputs": [],
   "source": [
    "import pyLDAvis.gensim\n",
    "import pickle\n",
    "import pyLDAvis\n",
    "# Visualize the topics\n",
    "pyLDAvis.enable_notebook()"
   ]
  },
  {
   "cell_type": "code",
   "execution_count": 37,
   "id": "988b206b",
   "metadata": {},
   "outputs": [],
   "source": [
    "import os\n",
    "LDAvis_data_filepath = os.path.join('ldavisprepared'+str(total_topics))"
   ]
  },
  {
   "cell_type": "code",
   "execution_count": 38,
   "id": "7d08721d",
   "metadata": {},
   "outputs": [],
   "source": [
    "corpus = [dictionary.doc2bow(text) for text in doc_clean]"
   ]
  },
  {
   "cell_type": "code",
   "execution_count": 39,
   "id": "c8bf9de9",
   "metadata": {},
   "outputs": [],
   "source": [
    "# proses ini mungkin agak lama\n",
    "if 1 == 1:\n",
    "    LDAvis_prepared = pyLDAvis.gensim.prepare(lda_model, corpus, dictionary)\n",
    "    with open(LDAvis_data_filepath, 'wb') as f:\n",
    "        pickle.dump(LDAvis_prepared, f)"
   ]
  },
  {
   "cell_type": "code",
   "execution_count": 40,
   "id": "819ff5a8",
   "metadata": {},
   "outputs": [],
   "source": [
    "# load the pre-prepared pyLDAvis data from disk\n",
    "with open(LDAvis_data_filepath, 'rb') as f:\n",
    "    LDAvis_prepared = pickle.load(f)"
   ]
  },
  {
   "cell_type": "code",
   "execution_count": 41,
   "id": "731e1f60",
   "metadata": {},
   "outputs": [
    {
     "data": {
      "text/html": [
       "\n",
       "<link rel=\"stylesheet\" type=\"text/css\" href=\"https://cdn.jsdelivr.net/gh/bmabey/pyLDAvis/pyLDAvis/js/ldavis.v1.0.0.css\">\n",
       "\n",
       "\n",
       "<div id=\"ldavis_el1141216313711228324766517480\"></div>\n",
       "<script type=\"text/javascript\">\n",
       "\n",
       "var ldavis_el1141216313711228324766517480_data = {\"mdsDat\": {\"x\": [0.08347866673247413, -0.18671593824637878, 0.10323727151390473], \"y\": [0.16695469784034536, -0.01137698007812058, -0.1555777177622247], \"topics\": [1, 2, 3], \"cluster\": [1, 1, 1], \"Freq\": [40.85330918457987, 32.134636775333526, 27.012054040086603]}, \"tinfo\": {\"Term\": [\"produk\", \"barang\", \"harga\", \"kualitas\", \"moga\", \"original\", \"awet\", \"aman\", \"cepat\", \"terima\", \"pesan\", \"packing\", \"sesuai\", \"kirim\", \"kasih\", \"selamat\", \"alhamdulillah\", \"warna\", \"murah\", \"respon\", \"beli\", \"makasih\", \"jual\", \"fungsi\", \"ok\", \"power\", \"bank\", \"paket\", \"rapi\", \"pb\", \"pesan\", \"packing\", \"aman\", \"selamat\", \"rapi\", \"paket\", \"kak\", \"makasih\", \"terima\", \"kondisi\", \"cacat\", \"darat\", \"lecet\", \"packaging\", \"muas\", \"next\", \"mantab\", \"amanah\", \"proses\", \"manfaat\", \"rumah\", \"lambat\", \"kasih\", \"alhamdulillah\", \"packingnya\", \"packingan\", \"was\", \"no\", \"tuju\", \"bismillah\", \"berkah\", \"mudah\", \"moga\", \"barang\", \"awet\", \"order\", \"fungsi\", \"sesuai\", \"ya\", \"kurir\", \"kirim\", \"sampe\", \"cepat\", \"coba\", \"bagus\", \"emas\", \"shopee\", \"ori\", \"udah\", \"sih\", \"banget\", \"cepet\", \"lumayan\", \"power\", \"bank\", \"pb\", \"berat\", \"isi\", \"kabel\", \"cas\", \"hp\", \"bawa\", \"pake\", \"gk\", \"full\", \"lampu\", \"bangett\", \"tipis\", \"dipake\", \"si\", \"gitu\", \"ringan\", \"cakep\", \"mah\", \"ungu\", \"bintang\", \"jam\", \"cantik\", \"charge\", \"type\", \"desain\", \"tgl\", \"slim\", \"overall\", \"warna\", \"merk\", \"pas\", \"bgt\", \"udah\", \"beli\", \"powerbank\", \"tp\", \"kali\", \"banget\", \"cepet\", \"bagus\", \"coba\", \"langsung\", \"awet\", \"moga\", \"robot\", \"suka\", \"jg\", \"ya\", \"kirim\", \"lumayan\", \"fungsi\", \"emas\", \"sih\", \"produk\", \"kualitas\", \"original\", \"murah\", \"jual\", \"ok\", \"respon\", \"jangkau\", \"harga\", \"nyesel\", \"belanja\", \"official\", \"layan\", \"store\", \"pict\", \"recomended\", \"jamin\", \"sempet\", \"video\", \"anjay\", \"bangettttt\", \"markotop\", \"terimakasihh\", \"baikpengiriman\", \"stok\", \"cute\", \"produkkk\", \"jakarta\", \"recommended\", \"bnget\", \"top\", \"pokok\", \"ragu\", \"cepat\", \"mantap\", \"kirim\", \"oke\", \"bagus\", \"beli\", \"robot\", \"banget\", \"asli\", \"deh\", \"bgt\", \"sesuai\", \"barang\", \"ori\", \"suka\", \"keren\", \"lumayan\", \"emas\", \"warna\", \"pas\"], \"Freq\": [579.0, 1026.0, 280.0, 266.0, 778.0, 222.0, 691.0, 320.0, 561.0, 268.0, 188.0, 182.0, 403.0, 835.0, 189.0, 140.0, 179.0, 300.0, 88.0, 86.0, 196.0, 130.0, 79.0, 261.0, 78.0, 90.0, 90.0, 112.0, 107.0, 73.0, 188.18564253838966, 182.12120872834342, 319.5122936364648, 140.07987688002856, 107.00252979600278, 111.61686402189144, 55.66753485905767, 128.99560623745023, 264.42987815065396, 39.344512639210535, 35.90055127307189, 30.98402076428667, 31.169770418341347, 30.32267756299474, 28.590998815076453, 28.527448689755328, 22.35266481597827, 23.569750999326608, 21.27441938125413, 17.477455160276108, 16.130065375277358, 16.113936859189593, 181.26838253128835, 171.25281572405092, 27.792804211796014, 12.472010356564786, 10.824758697537616, 13.467512103167474, 11.008312247019758, 10.382344909619764, 11.197855490111797, 83.30970194372406, 647.9402130322039, 841.007600453516, 565.4300272661404, 50.97181065072872, 206.9610066771411, 295.8684171227495, 143.32383067654808, 59.44903135113801, 429.6255133566056, 90.00859204119257, 283.34382598762164, 138.01350453078726, 355.9531229567216, 132.4158519094264, 50.72625486642569, 71.53709501298954, 72.59936700007856, 62.26032460660556, 90.58754220464785, 69.70134717217893, 64.6036631823948, 89.53648422095854, 89.52944265693955, 72.67353395586628, 70.1211208408933, 68.96949546255175, 59.51905722659486, 60.10610477071727, 51.64097562137252, 44.451701390861615, 45.13275073779932, 37.24839238262747, 30.602136141446092, 29.236481501695916, 31.70291237287523, 30.808068922877837, 30.101468632343135, 30.322913073839178, 28.282463859685016, 27.56494518898604, 27.33734047784417, 29.81642814277671, 26.85587024143343, 25.930467194780594, 24.140679198673173, 44.118739146165964, 23.643033584241287, 21.606727112963465, 22.476127308701233, 23.365228059952802, 21.782557427988188, 24.717509442195002, 215.2643745940762, 23.71411733787118, 76.14074821211518, 77.59713881069432, 90.9967164718177, 99.534784268685, 71.63034514703064, 49.62142253415111, 53.144367121359295, 122.89251363437039, 79.04233850915338, 175.37014310195417, 85.14966895582526, 38.15812113633916, 125.1879492219987, 129.78522901169953, 58.286976924530734, 59.61499304199963, 40.017142387666986, 57.64879232934907, 81.35547031197547, 50.97182924282646, 53.90336157113641, 52.35384826637357, 46.14190092506002, 578.4287874598684, 265.76356265135195, 221.98093170175693, 87.42039621417662, 78.46700373602859, 78.23030751297901, 85.13492647369954, 54.93547085444533, 276.1090298254742, 41.96899814477559, 35.71129787216233, 28.785548355111672, 26.693782154792526, 15.922046002910776, 15.668769368682412, 14.628372121558536, 13.759586286784076, 15.704651410612824, 14.68776509417048, 10.49743518679878, 10.045975992144747, 8.62276707114592, 8.397866494377844, 7.165506419344861, 6.946623284839967, 8.266080398350049, 6.53224971293896, 6.5310308910698565, 20.31310233992187, 5.508876714741575, 19.862527125964107, 68.64092925740404, 15.724969111130285, 278.0702883302709, 70.93073669208142, 324.9249526422669, 77.59596222637398, 311.42442257927917, 96.65966269204043, 70.53462466497174, 145.1951133054724, 25.008301611038377, 49.875450810207575, 54.688488310566385, 106.82562174433316, 172.86261174345648, 47.25968819465176, 52.7480869469628, 29.92207781018035, 48.37727995668492, 56.82144413179273, 56.74876743254223, 34.89929555810121], \"Total\": [579.0, 1026.0, 280.0, 266.0, 778.0, 222.0, 691.0, 320.0, 561.0, 268.0, 188.0, 182.0, 403.0, 835.0, 189.0, 140.0, 179.0, 300.0, 88.0, 86.0, 196.0, 130.0, 79.0, 261.0, 78.0, 90.0, 90.0, 112.0, 107.0, 73.0, 188.8936934329678, 182.85658921691947, 320.8570325588631, 140.77261956107466, 107.69645759948133, 112.4346211766842, 56.3415356427338, 130.83326412026074, 268.4282699954917, 40.03681935003505, 36.59940436208906, 31.662090934359384, 31.87270142215287, 31.015704687794383, 29.292722830754972, 29.291689663369837, 23.053061428952844, 24.36182643976616, 21.997554452149785, 18.126608242385945, 16.83869028918908, 16.82526844510441, 189.3009268639306, 179.47178539090763, 29.13627382784489, 13.187833075658716, 11.465494992341112, 14.268214534624782, 11.686730720695683, 11.032173392581859, 11.899936831873259, 93.54098096121987, 778.9241936485696, 1026.4726986569183, 691.2413545717092, 57.88046934745452, 261.2022110701631, 403.06520582723385, 201.3237626016808, 74.11204713037998, 835.9059363108479, 124.94328955702213, 561.7740470755466, 223.48323202784056, 842.7476886379549, 241.5911443075927, 64.99156754182553, 119.16639210637187, 168.7599961878403, 124.44875116528804, 358.6751691444906, 174.99581001991191, 163.9527723819062, 90.19482658391652, 90.19417006714473, 73.33717440301263, 70.76776350984372, 69.62756906131115, 60.14977676430098, 60.81474596201049, 52.28373420389858, 45.101437809044405, 45.80423442423357, 37.91780964342083, 31.229747002824343, 29.853477585765816, 32.37446139162534, 31.465221137201418, 30.769774871654743, 30.996871997728366, 28.92789600135194, 28.221504429885954, 27.993547047128413, 30.535849409372247, 27.53552353170211, 26.603156217987294, 24.774907925738876, 45.285880631521955, 24.30524469425145, 22.22710330201386, 23.133873185931968, 24.064056729523585, 22.439368966820968, 25.65991498360978, 300.4633275105921, 24.722588833601456, 111.42768656864754, 132.63230633087744, 168.7599961878403, 196.54695125651943, 126.88586350645737, 74.69269300962809, 85.21190152273266, 358.6751691444906, 174.99581001991191, 842.7476886379549, 223.48323202784056, 51.77886409646795, 691.2413545717092, 778.9241936485696, 131.66867479489733, 147.73862815594111, 63.68788784741116, 201.3237626016808, 835.9059363108479, 163.9527723819062, 261.2022110701631, 241.5911443075927, 124.44875116528804, 579.1192052854504, 266.44874772103043, 222.67847847127692, 88.12807612267834, 79.1819927963778, 78.9555204386104, 86.07403892303346, 55.61044437103615, 280.17924649982973, 42.652552308660226, 36.41731999334128, 29.530876520843165, 27.443360231599883, 16.596721410008033, 16.383769993641014, 15.345212429325139, 14.514484609030136, 16.60312824409561, 15.57546494168295, 11.154070434270091, 10.756101645119596, 9.28468926101143, 9.078888141213524, 7.826036874439279, 7.621702920296487, 9.087539432521076, 7.199218889369762, 7.19982507679584, 22.585346042021953, 6.162229259950722, 22.394931076253023, 91.91830633649886, 18.927552691242948, 561.7740470755466, 122.45827613125746, 835.9059363108479, 145.10475329242828, 842.7476886379549, 196.54695125651943, 131.66867479489733, 358.6751691444906, 36.177436079005794, 108.66950722785845, 132.63230633087744, 403.06520582723385, 1026.4726986569183, 119.16639210637187, 147.73862815594111, 52.93935844809991, 163.9527723819062, 241.5911443075927, 300.4633275105921, 111.42768656864754], \"Category\": [\"Default\", \"Default\", \"Default\", \"Default\", \"Default\", \"Default\", \"Default\", \"Default\", \"Default\", \"Default\", \"Default\", \"Default\", \"Default\", \"Default\", \"Default\", \"Default\", \"Default\", \"Default\", \"Default\", \"Default\", \"Default\", \"Default\", \"Default\", \"Default\", \"Default\", \"Default\", \"Default\", \"Default\", \"Default\", \"Default\", \"Topic1\", \"Topic1\", \"Topic1\", \"Topic1\", \"Topic1\", \"Topic1\", \"Topic1\", \"Topic1\", \"Topic1\", \"Topic1\", \"Topic1\", \"Topic1\", \"Topic1\", \"Topic1\", \"Topic1\", \"Topic1\", \"Topic1\", \"Topic1\", \"Topic1\", \"Topic1\", \"Topic1\", \"Topic1\", \"Topic1\", \"Topic1\", \"Topic1\", \"Topic1\", \"Topic1\", \"Topic1\", \"Topic1\", \"Topic1\", \"Topic1\", \"Topic1\", \"Topic1\", \"Topic1\", \"Topic1\", \"Topic1\", \"Topic1\", \"Topic1\", \"Topic1\", \"Topic1\", \"Topic1\", \"Topic1\", \"Topic1\", \"Topic1\", \"Topic1\", \"Topic1\", \"Topic1\", \"Topic1\", \"Topic1\", \"Topic1\", \"Topic1\", \"Topic1\", \"Topic1\", \"Topic2\", \"Topic2\", \"Topic2\", \"Topic2\", \"Topic2\", \"Topic2\", \"Topic2\", \"Topic2\", \"Topic2\", \"Topic2\", \"Topic2\", \"Topic2\", \"Topic2\", \"Topic2\", \"Topic2\", \"Topic2\", \"Topic2\", \"Topic2\", \"Topic2\", \"Topic2\", \"Topic2\", \"Topic2\", \"Topic2\", \"Topic2\", \"Topic2\", \"Topic2\", \"Topic2\", \"Topic2\", \"Topic2\", \"Topic2\", \"Topic2\", \"Topic2\", \"Topic2\", \"Topic2\", \"Topic2\", \"Topic2\", \"Topic2\", \"Topic2\", \"Topic2\", \"Topic2\", \"Topic2\", \"Topic2\", \"Topic2\", \"Topic2\", \"Topic2\", \"Topic2\", \"Topic2\", \"Topic2\", \"Topic2\", \"Topic2\", \"Topic2\", \"Topic2\", \"Topic2\", \"Topic2\", \"Topic2\", \"Topic2\", \"Topic3\", \"Topic3\", \"Topic3\", \"Topic3\", \"Topic3\", \"Topic3\", \"Topic3\", \"Topic3\", \"Topic3\", \"Topic3\", \"Topic3\", \"Topic3\", \"Topic3\", \"Topic3\", \"Topic3\", \"Topic3\", \"Topic3\", \"Topic3\", \"Topic3\", \"Topic3\", \"Topic3\", \"Topic3\", \"Topic3\", \"Topic3\", \"Topic3\", \"Topic3\", \"Topic3\", \"Topic3\", \"Topic3\", \"Topic3\", \"Topic3\", \"Topic3\", \"Topic3\", \"Topic3\", \"Topic3\", \"Topic3\", \"Topic3\", \"Topic3\", \"Topic3\", \"Topic3\", \"Topic3\", \"Topic3\", \"Topic3\", \"Topic3\", \"Topic3\", \"Topic3\", \"Topic3\", \"Topic3\", \"Topic3\", \"Topic3\", \"Topic3\", \"Topic3\", \"Topic3\"], \"logprob\": [30.0, 29.0, 28.0, 27.0, 26.0, 25.0, 24.0, 23.0, 22.0, 21.0, 20.0, 19.0, 18.0, 17.0, 16.0, 15.0, 14.0, 13.0, 12.0, 11.0, 10.0, 9.0, 8.0, 7.0, 6.0, 5.0, 4.0, 3.0, 2.0, 1.0, -4.1553, -4.188, -3.6259, -4.4505, -4.7198, -4.6776, -5.3733, -4.5329, -3.8151, -5.7203, -5.8119, -5.9592, -5.9532, -5.9808, -6.0396, -6.0418, -6.2857, -6.2327, -6.3352, -6.5318, -6.612, -6.613, -4.1927, -4.2495, -6.0679, -6.8692, -7.0108, -6.7924, -6.994, -7.0526, -6.977, -4.9701, -2.9189, -2.6581, -3.0551, -5.4614, -4.0602, -3.7028, -4.4276, -5.3076, -3.3298, -4.8928, -3.746, -4.4653, -3.5179, -4.5067, -5.4662, -5.1225, -5.1077, -5.2614, -4.8864, -5.1485, -5.2244, -4.658, -4.6581, -4.8667, -4.9024, -4.919, -5.0663, -5.0565, -5.2083, -5.3582, -5.343, -5.535, -5.7316, -5.7772, -5.6962, -5.7249, -5.7481, -5.7407, -5.8104, -5.8361, -5.8444, -5.7576, -5.8621, -5.8972, -5.9687, -5.3657, -5.9896, -6.0796, -6.0402, -6.0014, -6.0715, -5.9451, -3.7808, -5.9866, -4.82, -4.8011, -4.6418, -4.5521, -4.8811, -5.2482, -5.1796, -4.3413, -4.7826, -3.9857, -4.7082, -5.5109, -4.3228, -4.2867, -5.0873, -5.0647, -5.4633, -5.0983, -4.7538, -5.2214, -5.1654, -5.1946, -5.3209, -2.6187, -3.3964, -3.5764, -4.5082, -4.6163, -4.6193, -4.5347, -4.9728, -3.3582, -5.242, -5.4035, -5.6191, -5.6945, -6.2113, -6.2273, -6.296, -6.3572, -6.225, -6.292, -6.6278, -6.6718, -6.8246, -6.851, -7.0097, -7.0407, -6.8668, -7.1022, -7.1024, -5.9677, -7.2726, -5.9901, -4.7501, -6.2237, -3.3511, -4.7173, -3.1954, -4.6275, -3.2378, -4.4078, -4.7229, -4.0009, -5.7598, -5.0694, -4.9773, -4.3078, -3.8265, -5.1233, -5.0135, -5.5804, -5.0999, -4.9391, -4.9403, -5.4265], \"loglift\": [30.0, 29.0, 28.0, 27.0, 26.0, 25.0, 24.0, 23.0, 22.0, 21.0, 20.0, 19.0, 18.0, 17.0, 16.0, 15.0, 14.0, 13.0, 12.0, 11.0, 10.0, 9.0, 8.0, 7.0, 6.0, 5.0, 4.0, 3.0, 2.0, 1.0, 0.8914, 0.8912, 0.891, 0.8902, 0.8887, 0.8879, 0.8831, 0.881, 0.8802, 0.8777, 0.8759, 0.8735, 0.8729, 0.8726, 0.8709, 0.8687, 0.8643, 0.8621, 0.8618, 0.8587, 0.8522, 0.852, 0.8518, 0.8483, 0.848, 0.8394, 0.8377, 0.8374, 0.8354, 0.8345, 0.8344, 0.7793, 0.7111, 0.6959, 0.6943, 0.7681, 0.6624, 0.586, 0.5554, 0.6747, 0.2296, 0.5672, 0.2107, 0.4132, 0.0333, 0.2939, 0.6474, 0.3849, 0.0517, 0.2026, -0.4809, -0.0254, -0.0361, 1.1279, 1.1278, 1.1261, 1.1261, 1.1257, 1.1247, 1.1235, 1.1229, 1.1207, 1.1205, 1.1174, 1.1149, 1.1144, 1.1143, 1.1141, 1.1133, 1.1133, 1.1127, 1.1117, 1.1115, 1.1114, 1.1102, 1.1096, 1.1093, 1.1091, 1.1076, 1.1069, 1.1064, 1.1058, 1.1055, 1.0978, 0.8018, 1.0936, 0.7544, 0.5992, 0.5176, 0.4548, 0.5635, 0.7263, 0.6631, 0.0641, 0.3405, -0.4345, 0.1703, 0.83, -0.5734, -0.6568, 0.3203, 0.2277, 0.6705, -0.1153, -1.1945, -0.0331, -0.4429, -0.394, 0.1431, 1.3077, 1.3063, 1.3057, 1.3008, 1.2998, 1.2997, 1.2979, 1.2967, 1.2943, 1.2927, 1.2893, 1.2833, 1.2812, 1.2674, 1.2643, 1.261, 1.2555, 1.2533, 1.2502, 1.2482, 1.2406, 1.2349, 1.2309, 1.2207, 1.2161, 1.2141, 1.2117, 1.2114, 1.2029, 1.1968, 1.1889, 1.0169, 1.1235, 0.6057, 0.7628, 0.364, 0.6829, 0.3134, 0.5992, 0.6847, 0.4045, 0.9397, 0.5301, 0.423, -0.019, -0.4725, 0.384, 0.279, 0.7383, 0.0883, -0.1384, -0.3578, 0.148]}, \"token.table\": {\"Topic\": [1, 2, 3, 1, 2, 1, 3, 2, 3, 1, 2, 3, 1, 2, 3, 3, 1, 2, 3, 2, 3, 2, 1, 2, 3, 2, 3, 2, 3, 2, 1, 2, 3, 2, 1, 3, 1, 2, 1, 2, 2, 1, 3, 1, 2, 3, 2, 1, 2, 3, 1, 1, 2, 3, 2, 2, 1, 2, 3, 2, 1, 2, 2, 2, 2, 3, 2, 2, 3, 2, 3, 3, 1, 2, 3, 3, 2, 1, 1, 2, 3, 1, 3, 1, 2, 3, 1, 2, 3, 1, 3, 1, 2, 1, 2, 1, 2, 3, 3, 1, 1, 2, 3, 2, 1, 3, 1, 1, 1, 2, 3, 3, 2, 3, 1, 2, 3, 1, 1, 2, 3, 1, 1, 3, 3, 3, 1, 2, 3, 1, 2, 1, 3, 3, 1, 2, 1, 1, 1, 1, 2, 2, 1, 2, 2, 3, 2, 1, 3, 1, 3, 2, 1, 2, 3, 3, 3, 1, 2, 3, 1, 3, 2, 3, 2, 3, 2, 1, 2, 3, 1, 1, 2, 1, 1, 3, 1, 3, 1, 3, 2, 1, 2, 3, 2, 3, 3, 1, 2, 3, 1, 3, 3, 2, 2, 2, 3, 1, 2, 1, 2, 1, 2, 3, 2, 2, 3, 1, 2, 3, 1, 1, 2], \"Freq\": [0.9527960042718958, 0.039003345204112694, 0.0055719064577303854, 0.9973289269927226, 0.003116652896852258, 0.9851478114475217, 0.8965336967279415, 0.3040569258688687, 0.6910384678837924, 0.8173700781401774, 0.18083408808411006, 0.0014466727046728804, 0.42242773821826274, 0.20765408479830333, 0.3690309735558419, 0.8944501683684613, 0.2537114576876134, 0.34292867357776313, 0.4042655095022411, 0.9884334325412992, 0.9297048624059197, 0.9978471993588923, 0.8193106364157577, 0.012664730408329192, 0.16853833543391925, 0.9755786541948441, 0.9885406176671544, 0.5087842846744896, 0.49352075613425483, 0.9891509428620431, 0.9243746547071718, 0.5880920128570608, 0.4146802654761326, 0.9773276443950857, 0.9064397054096428, 0.9736736085096549, 0.9836225651062795, 0.9645079973089609, 0.022081937814938595, 0.9716052638572982, 0.9866028222411807, 0.503761256813529, 0.49486088125145256, 0.40000957732665166, 0.4514393801257926, 0.1485749858641849, 0.9874412005272407, 0.6174959917476429, 0.38034173404746124, 0.8803263038805467, 0.9790888436353744, 0.3036730435411429, 0.23925754945665803, 0.4601106720320347, 0.9509864527734382, 0.9749827590593175, 0.546377643014672, 0.21523967755123444, 0.23593580039269926, 0.9926433280806417, 0.7924894630558715, 0.2067363816667491, 0.9679238337517331, 0.9757947610357266, 0.014276574906851393, 0.9850836685727461, 0.9945731840271381, 0.9909867733460788, 0.9722458428275081, 0.9687220663720886, 0.96455371148969, 0.9890228467342711, 0.25122516291220326, 0.6280629072805082, 0.12561258145610163, 0.9850724545488849, 0.9975099364892427, 0.9939381197399463, 0.26991534737508593, 0.621978843951285, 0.10561904897285972, 0.9561495709426858, 0.04226075451680379, 0.13222676294542898, 0.3022326010181234, 0.5666861269089813, 0.5144119467529372, 0.09690085508601841, 0.3887997271969874, 0.9741033536912531, 0.998315819740687, 0.7960918944285206, 0.18890316138981844, 0.950950652122015, 0.9714111167345959, 0.13519029670018387, 0.7338901820867124, 0.13519029670018387, 0.9838445355139357, 0.9726191573599624, 0.3964556320437885, 0.3110651882189725, 0.2927672359707976, 0.9824517929012389, 0.9859877827509095, 0.007643316145355887, 0.9378478186695972, 0.954320104850357, 0.408302334310237, 0.01633209337240948, 0.5797893147205365, 0.9693377717866223, 0.9707721210563776, 0.04044883837734906, 0.8319166425742847, 0.16689685730656947, 0.0012838219792813035, 0.9900069777587341, 0.8873116269158013, 0.1069050152910604, 0.9871995830124783, 0.9900418969775375, 0.9111161013491074, 0.984700744191392, 0.9820230015702898, 0.9878979907509654, 0.3170123580121226, 0.14472303300553424, 0.5375426940205557, 0.8811262343753418, 0.1209388949142626, 0.604197196267639, 0.39440650311915326, 0.9969531026261057, 0.038971290459798795, 0.9742822614949699, 0.9672519229203878, 0.9953155135366584, 0.9099296246135277, 0.961001402081862, 0.034321478645780785, 0.9824419197407637, 0.9961344542087155, 0.00889405762686353, 0.6820566982980346, 0.3141050584267265, 0.9954024080453422, 0.9952688021673686, 0.9765762096397859, 0.25022219095073966, 0.7506665728522189, 0.9978399361549273, 0.23643295770669728, 0.5674390984960735, 0.19702746475558108, 0.998067400847294, 0.9723277077095231, 0.9546515748230233, 0.15849909647262453, 0.8453285145206642, 0.9935331429184846, 0.977503574426547, 0.08855299344445865, 0.8855299344445864, 0.01161790491665193, 0.9875219179154141, 0.9921512182160145, 0.022784462626916798, 0.4404996107870581, 0.5392322821703642, 0.9501926649409578, 0.7203268004155232, 0.2801270890504812, 0.9945115778658971, 0.06022961367871257, 0.9636738188594011, 0.7343724928885941, 0.2654657322266202, 0.7847171860746209, 0.21541256088322927, 0.9678395936918596, 0.4981970443211116, 0.3696300651414699, 0.12856697917964172, 0.9804197271558472, 0.9184299195602467, 0.9640458259636627, 0.2369048666341804, 0.4061226285157378, 0.3587416551889018, 0.983502967122032, 0.014901560107909577, 0.8811651686382255, 0.9557823212651373, 0.9852147507505871, 0.08930592343375174, 0.8930592343375174, 0.33470476150561923, 0.6694095230112385, 0.9412384235499178, 0.9897825956478421, 0.43256696876638046, 0.5392273172293236, 0.029627874573039756, 0.9805515398650201, 0.06420354087304367, 0.963053113095655, 0.09318940927662106, 0.7155615355169117, 0.18970701174169285, 0.9594003579738982, 0.7102986659499584, 0.2880931652104726], \"Term\": [\"alhamdulillah\", \"alhamdulillah\", \"alhamdulillah\", \"aman\", \"aman\", \"amanah\", \"anjay\", \"asli\", \"asli\", \"awet\", \"awet\", \"awet\", \"bagus\", \"bagus\", \"bagus\", \"baikpengiriman\", \"banget\", \"banget\", \"banget\", \"bangett\", \"bangettttt\", \"bank\", \"barang\", \"barang\", \"barang\", \"bawa\", \"belanja\", \"beli\", \"beli\", \"berat\", \"berkah\", \"bgt\", \"bgt\", \"bintang\", \"bismillah\", \"bnget\", \"cacat\", \"cakep\", \"cantik\", \"cantik\", \"cas\", \"cepat\", \"cepat\", \"cepet\", \"cepet\", \"cepet\", \"charge\", \"coba\", \"coba\", \"cute\", \"darat\", \"deh\", \"deh\", \"deh\", \"desain\", \"dipake\", \"emas\", \"emas\", \"emas\", \"full\", \"fungsi\", \"fungsi\", \"gitu\", \"gk\", \"harga\", \"harga\", \"hp\", \"isi\", \"jakarta\", \"jam\", \"jamin\", \"jangkau\", \"jg\", \"jg\", \"jg\", \"jual\", \"kabel\", \"kak\", \"kali\", \"kali\", \"kali\", \"kasih\", \"kasih\", \"keren\", \"keren\", \"keren\", \"kirim\", \"kirim\", \"kirim\", \"kondisi\", \"kualitas\", \"kurir\", \"kurir\", \"lambat\", \"lampu\", \"langsung\", \"langsung\", \"langsung\", \"layan\", \"lecet\", \"lumayan\", \"lumayan\", \"lumayan\", \"mah\", \"makasih\", \"makasih\", \"manfaat\", \"mantab\", \"mantap\", \"mantap\", \"mantap\", \"markotop\", \"merk\", \"merk\", \"moga\", \"moga\", \"moga\", \"muas\", \"mudah\", \"mudah\", \"murah\", \"next\", \"no\", \"nyesel\", \"official\", \"ok\", \"oke\", \"oke\", \"oke\", \"order\", \"order\", \"ori\", \"ori\", \"original\", \"overall\", \"overall\", \"packaging\", \"packing\", \"packingan\", \"packingnya\", \"packingnya\", \"pake\", \"paket\", \"paket\", \"pas\", \"pas\", \"pb\", \"pesan\", \"pict\", \"pokok\", \"pokok\", \"power\", \"powerbank\", \"powerbank\", \"powerbank\", \"produk\", \"produkkk\", \"proses\", \"ragu\", \"ragu\", \"rapi\", \"recomended\", \"recommended\", \"recommended\", \"respon\", \"respon\", \"ringan\", \"robot\", \"robot\", \"robot\", \"rumah\", \"sampe\", \"sampe\", \"selamat\", \"sempet\", \"sempet\", \"sesuai\", \"sesuai\", \"shopee\", \"shopee\", \"si\", \"sih\", \"sih\", \"sih\", \"slim\", \"stok\", \"store\", \"suka\", \"suka\", \"suka\", \"terima\", \"terima\", \"terimakasihh\", \"tgl\", \"tipis\", \"top\", \"top\", \"tp\", \"tp\", \"tuju\", \"type\", \"udah\", \"udah\", \"udah\", \"ungu\", \"video\", \"video\", \"warna\", \"warna\", \"warna\", \"was\", \"ya\", \"ya\"]}, \"R\": 30, \"lambda.step\": 0.01, \"plot.opts\": {\"xlab\": \"PC1\", \"ylab\": \"PC2\"}, \"topic.order\": [2, 1, 3]};\n",
       "\n",
       "function LDAvis_load_lib(url, callback){\n",
       "  var s = document.createElement('script');\n",
       "  s.src = url;\n",
       "  s.async = true;\n",
       "  s.onreadystatechange = s.onload = callback;\n",
       "  s.onerror = function(){console.warn(\"failed to load library \" + url);};\n",
       "  document.getElementsByTagName(\"head\")[0].appendChild(s);\n",
       "}\n",
       "\n",
       "if(typeof(LDAvis) !== \"undefined\"){\n",
       "   // already loaded: just create the visualization\n",
       "   !function(LDAvis){\n",
       "       new LDAvis(\"#\" + \"ldavis_el1141216313711228324766517480\", ldavis_el1141216313711228324766517480_data);\n",
       "   }(LDAvis);\n",
       "}else if(typeof define === \"function\" && define.amd){\n",
       "   // require.js is available: use it to load d3/LDAvis\n",
       "   require.config({paths: {d3: \"https://d3js.org/d3.v5\"}});\n",
       "   require([\"d3\"], function(d3){\n",
       "      window.d3 = d3;\n",
       "      LDAvis_load_lib(\"https://cdn.jsdelivr.net/gh/bmabey/pyLDAvis/pyLDAvis/js/ldavis.v3.0.0.js\", function(){\n",
       "        new LDAvis(\"#\" + \"ldavis_el1141216313711228324766517480\", ldavis_el1141216313711228324766517480_data);\n",
       "      });\n",
       "    });\n",
       "}else{\n",
       "    // require.js not available: dynamically load d3 & LDAvis\n",
       "    LDAvis_load_lib(\"https://d3js.org/d3.v5.js\", function(){\n",
       "         LDAvis_load_lib(\"https://cdn.jsdelivr.net/gh/bmabey/pyLDAvis/pyLDAvis/js/ldavis.v3.0.0.js\", function(){\n",
       "                 new LDAvis(\"#\" + \"ldavis_el1141216313711228324766517480\", ldavis_el1141216313711228324766517480_data);\n",
       "            })\n",
       "         });\n",
       "}\n",
       "</script>"
      ],
      "text/plain": [
       "PreparedData(topic_coordinates=              x         y  topics  cluster       Freq\n",
       "topic                                                \n",
       "1      0.083479  0.166955       1        1  40.853309\n",
       "0     -0.186716 -0.011377       2        1  32.134637\n",
       "2      0.103237 -0.155578       3        1  27.012054, topic_info=         Term         Freq        Total Category  logprob  loglift\n",
       "105    produk   579.000000   579.000000  Default  30.0000  30.0000\n",
       "39     barang  1026.000000  1026.000000  Default  29.0000  29.0000\n",
       "48      harga   280.000000   280.000000  Default  28.0000  28.0000\n",
       "139  kualitas   266.000000   266.000000  Default  27.0000  27.0000\n",
       "111      moga   778.000000   778.000000  Default  26.0000  26.0000\n",
       "..        ...          ...          ...      ...      ...      ...\n",
       "277     keren    29.922078    52.939358   Topic3  -5.5804   0.7383\n",
       "233   lumayan    48.377280   163.952772   Topic3  -5.0999   0.0883\n",
       "148      emas    56.821444   241.591144   Topic3  -4.9391  -0.1384\n",
       "67      warna    56.748767   300.463328   Topic3  -4.9403  -0.3578\n",
       "18        pas    34.899296   111.427687   Topic3  -5.4265   0.1480\n",
       "\n",
       "[192 rows x 6 columns], token_table=      Topic      Freq           Term\n",
       "term                                \n",
       "0         1  0.952796  alhamdulillah\n",
       "0         2  0.039003  alhamdulillah\n",
       "0         3  0.005572  alhamdulillah\n",
       "1         1  0.997329           aman\n",
       "1         2  0.003117           aman\n",
       "...     ...       ...            ...\n",
       "67        2  0.715562          warna\n",
       "67        3  0.189707          warna\n",
       "2262      1  0.959400            was\n",
       "156       1  0.710299             ya\n",
       "156       2  0.288093             ya\n",
       "\n",
       "[213 rows x 3 columns], R=30, lambda_step=0.01, plot_opts={'xlab': 'PC1', 'ylab': 'PC2'}, topic_order=[2, 1, 3])"
      ]
     },
     "execution_count": 41,
     "metadata": {},
     "output_type": "execute_result"
    }
   ],
   "source": [
    "# proses ini mungkin agak lama \n",
    "LDAvis_prepared"
   ]
  },
  {
   "cell_type": "code",
   "execution_count": null,
   "id": "95861150",
   "metadata": {},
   "outputs": [],
   "source": []
  }
 ],
 "metadata": {
  "kernelspec": {
   "display_name": "Python 3 (ipykernel)",
   "language": "python",
   "name": "python3"
  },
  "language_info": {
   "codemirror_mode": {
    "name": "ipython",
    "version": 3
   },
   "file_extension": ".py",
   "mimetype": "text/x-python",
   "name": "python",
   "nbconvert_exporter": "python",
   "pygments_lexer": "ipython3",
   "version": "3.9.12"
  }
 },
 "nbformat": 4,
 "nbformat_minor": 5
}
